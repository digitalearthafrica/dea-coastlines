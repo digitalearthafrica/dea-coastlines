{
 "cells": [
  {
   "cell_type": "markdown",
   "id": "69da8225-7681-4de4-b1b5-be4fdabf52c7",
   "metadata": {
    "tags": []
   },
   "source": [
    "# DE Africa Coastlines generation using command line tools <img align=\"right\" src=\"https://github.com/digitalearthafrica/deafrica-sandbox-notebooks/raw/main/Supplementary_data/DE_Africa_Logo_Stacked_RGB_small.jpg\">\n",
    "This notebook demonstrates how to run a DE Africa Coastlines analysis using command line tools."
   ]
  },
  {
   "cell_type": "markdown",
   "id": "81b6c48d-db3b-4f30-82fa-67c96e64cc1c",
   "metadata": {},
   "source": [
    "### Setup"
   ]
  },
  {
   "cell_type": "markdown",
   "id": "4e436c72-fa98-489e-bc7d-787ead143e76",
   "metadata": {},
   "source": [
    "Set working directory to top level of repo to ensure links work correctly:"
   ]
  },
  {
   "cell_type": "code",
   "execution_count": 1,
   "id": "c0c743c8-8d0d-4f71-9a70-c4132adaaa86",
   "metadata": {},
   "outputs": [
    {
     "name": "stdout",
     "output_type": "stream",
     "text": [
      "/home/jovyan/Robbi/deafrica-coastlines\n"
     ]
    }
   ],
   "source": [
    "cd .."
   ]
  },
  {
   "cell_type": "markdown",
   "id": "c0ec2b5f-36a1-423b-add1-80f50f07361a",
   "metadata": {},
   "source": [
    "Update required packages:"
   ]
  },
  {
   "cell_type": "code",
   "execution_count": 2,
   "id": "cb80bb63-817e-4098-a92d-19a3701d8958",
   "metadata": {},
   "outputs": [
    {
     "name": "stdout",
     "output_type": "stream",
     "text": [
      "Note: you may need to restart the kernel to use updated packages.\n"
     ]
    }
   ],
   "source": [
    "pip install -r requirements.in --quiet"
   ]
  },
  {
   "cell_type": "markdown",
   "id": "ccd976ef-d89d-494b-9c84-84120bf963b9",
   "metadata": {},
   "source": [
    "Set analysis parameters:"
   ]
  },
  {
   "cell_type": "code",
   "execution_count": 3,
   "id": "4729d261-6b27-4a61-a937-366c5174ce05",
   "metadata": {},
   "outputs": [],
   "source": [
    "config_path = 'configs/deafrica_coastlines_config.yaml'\n",
    "study_area = 243\n",
    "raster_version = 'testing'\n",
    "vector_version = 'testing'\n",
    "continental_version = 'testing'"
   ]
  },
  {
   "cell_type": "markdown",
   "id": "d9906d6b-01a4-4c94-8dd0-178eb281bd6a",
   "metadata": {},
   "source": [
    "### Run DEA Coastlines analysis\n",
    "#### Run tidally-constrained raster generation"
   ]
  },
  {
   "cell_type": "code",
   "execution_count": 4,
   "id": "dc5632c4-f872-46e5-9762-80b8556f3622",
   "metadata": {},
   "outputs": [
    {
     "name": "stdout",
     "output_type": "stream",
     "text": [
      "/usr/local/lib/python3.8/dist-packages/geopandas/_compat.py:111: UserWarning: The Shapely GEOS version (3.8.0-CAPI-1.13.1 ) is incompatible with the GEOS version PyGEOS was compiled with (3.10.1-CAPI-1.16.0). Conversions between both will be slow.\n",
      "  warnings.warn(\n",
      "Usage: python -m coastlines.raster [OPTIONS]\n",
      "\n",
      "Options:\n",
      "  --config_path TEXT              Path to the YAML config file defining inputs\n",
      "                                  to use for this analysis. These are\n",
      "                                  typically located in the `dea-\n",
      "                                  coastlines/configs/` directory.  [required]\n",
      "  --study_area TEXT               A string providing a unique ID of an\n",
      "                                  analysis gridcell that will be used to run\n",
      "                                  the analysis. This should match a row in the\n",
      "                                  \"id\" column of the provided analysis\n",
      "                                  gridcell vector file.  [required]\n",
      "  --raster_version TEXT           A unique string proving a name that will be\n",
      "                                  used for output raster directories and\n",
      "                                  files. This can be used to version different\n",
      "                                  analysis outputs.  [required]\n",
      "  --start_year TEXT               The first year used to load data. Note that\n",
      "                                  this should buffer the desired temporal\n",
      "                                  extent of the analysis by one year to allow\n",
      "                                  sufficient data for gapfilling low data\n",
      "                                  pixels. For example, set `--start_year 1987`\n",
      "                                  to extract a shoreline timeseries that\n",
      "                                  commences in 1988.\n",
      "  --end_year TEXT                 The last year used to load data. Note that\n",
      "                                  this should buffer the desired temporal\n",
      "                                  extent of the analysis by one year to allow\n",
      "                                  sufficient data for gapfilling low data\n",
      "                                  pixels. For example, set `--end_year 2021`\n",
      "                                  to extract a shoreline timeseries that\n",
      "                                  finishes in the year 2020.\n",
      "  --aws_unsigned / --no-aws_unsigned\n",
      "                                  Whether to use sign AWS requests for S3\n",
      "                                  access\n",
      "  --overwrite / --no-overwrite    Whether to overwrite tiles with existing\n",
      "                                  outputs, or skip these tiles entirely.\n",
      "  --help                          Show this message and exit.\n"
     ]
    }
   ],
   "source": [
    "!python -m coastlines.raster --help"
   ]
  },
  {
   "cell_type": "markdown",
   "id": "fca95348-eda9-4071-a9a1-a3f9219c5cf0",
   "metadata": {},
   "source": [
    "Example analysis:"
   ]
  },
  {
   "cell_type": "code",
   "execution_count": 4,
   "id": "47397eb8-ddec-46c6-9f7c-431a50bb7eae",
   "metadata": {},
   "outputs": [],
   "source": [
    "!python -m coastlines.raster --config_path {config_path} --study_area {study_area} --raster_version {raster_version} --start_year 1998 --end_year 2021"
   ]
  },
  {
   "cell_type": "markdown",
   "id": "1e0f60ac-c68d-4b6f-a19b-257679588ea1",
   "metadata": {},
   "source": [
    "#### Run vector annual shoreline and rates of change statistics generation"
   ]
  },
  {
   "cell_type": "code",
   "execution_count": 6,
   "id": "0ed72c21-ba89-4fad-9521-f5493aad9d66",
   "metadata": {},
   "outputs": [
    {
     "name": "stdout",
     "output_type": "stream",
     "text": [
      "Usage: python -m coastlines.vector [OPTIONS]\n",
      "\n",
      "Options:\n",
      "  --config_path TEXT       Path to the YAML config file defining inputs to use\n",
      "                           for this analysis. These are typically located in\n",
      "                           the `dea-coastlines/configs/` directory.\n",
      "                           [required]\n",
      "  --study_area TEXT        A string providing a unique ID of an analysis\n",
      "                           gridcell that was previously used to generate\n",
      "                           raster files. This is used to identify the raster\n",
      "                           files that will be used as inputs for shoreline\n",
      "                           extraction, and should match a row in the \"id\"\n",
      "                           column of the provided analysis gridcell vector\n",
      "                           file.  [required]\n",
      "  --raster_version TEXT    A unique string providing a name that was used to\n",
      "                           generate raster files. This is used to identify the\n",
      "                           raster files that will be used as inputs for\n",
      "                           shoreline extraction.  [required]\n",
      "  --vector_version TEXT    A unique string proving a name that will be used\n",
      "                           for output vector directories and files. This\n",
      "                           allows multiple versions of vector files to be\n",
      "                           generated from the same input raster data, e.g. for\n",
      "                           testing different water index thresholds or\n",
      "                           indices. If not provided, this will default to the\n",
      "                           same string supplied to \"--raster_version\".\n",
      "  --water_index TEXT       A string giving the name of the computed water\n",
      "                           index to use for shoreline extraction. Defaults to\n",
      "                           \"mndwi\".\n",
      "  --index_threshold FLOAT  The water index threshold used to extract subpixel\n",
      "                           precision shorelines. Defaults to 0.00.\n",
      "  --baseline_year TEXT     The annual shoreline used to generate the rates of\n",
      "                           change point statistics. This is typically the most\n",
      "                           recent annual shoreline in the dataset.\n",
      "  --help                   Show this message and exit.\n"
     ]
    }
   ],
   "source": [
    "!python -m coastlines.vector --help"
   ]
  },
  {
   "cell_type": "markdown",
   "id": "0dede36a-c26b-4d98-a359-7080dc3f2fd9",
   "metadata": {},
   "source": [
    "Example analysis:"
   ]
  },
  {
   "cell_type": "code",
   "execution_count": 5,
   "id": "c23665e0-6d46-4185-b9f0-04a50d856174",
   "metadata": {},
   "outputs": [
    {
     "name": "stdout",
     "output_type": "stream",
     "text": [
      "/usr/local/lib/python3.8/dist-packages/geopandas/_compat.py:111: UserWarning: The Shapely GEOS version (3.8.0-CAPI-1.13.1 ) is incompatible with the GEOS version PyGEOS was compiled with (3.10.1-CAPI-1.16.0). Conversions between both will be slow.\n",
      "  warnings.warn(\n",
      "2022-05-21 07:20:38 INFO Starting vector generation for study area: 243\n",
      "/home/jovyan/Robbi/deafrica-coastlines/coastlines/vector.py:114: DeprecationWarning: open_rasterio is Deprecated in favor of rioxarray. For information about transitioning, see: https://corteva.github.io/rioxarray/stable/getting_started/getting_started.html\n",
      "  layer_da = xr.concat([xr.open_rasterio(i) for i in paths], dim=time_var)\n",
      "/home/jovyan/Robbi/deafrica-coastlines/coastlines/vector.py:114: DeprecationWarning: open_rasterio is Deprecated in favor of rioxarray. For information about transitioning, see: https://corteva.github.io/rioxarray/stable/getting_started/getting_started.html\n",
      "  layer_da = xr.concat([xr.open_rasterio(i) for i in paths], dim=time_var)\n",
      "2022-05-21 07:20:50 INFO Rasters loaded\n",
      "2022-05-21 07:20:50 INFO Loaded tide modelling points\n",
      "2022-05-21 07:21:23 INFO Annual shorelines extracted\n",
      "2022-05-21 07:21:23 INFO Rates of change points extracted\n",
      "2022-05-21 07:21:38 INFO Calculated distances to each annual shoreline\n",
      "2022-05-21 07:21:40 INFO Calculated rates of change regressions\n",
      "2022-05-21 07:21:42 INFO Calculated all of time statistics\n",
      "/usr/local/lib/python3.8/dist-packages/pygeos/set_operations.py:129: RuntimeWarning: invalid value encountered in intersection\n",
      "  return lib.intersection(a, b, **kwargs)\n",
      "2022-05-21 07:21:44 INFO Output rates of change points and annual shorelines written to data/interim/vector/testing/243_testing\n"
     ]
    }
   ],
   "source": [
    "!python -m coastlines.vector --config_path {config_path} --study_area {study_area} --raster_version {raster_version} --vector_version {vector_version} --baseline_year 2020"
   ]
  },
  {
   "cell_type": "markdown",
   "id": "fa26bb5f-c618-418d-bc87-c01a33fd612c",
   "metadata": {},
   "source": [
    "#### Run continental-scale layer generation"
   ]
  },
  {
   "cell_type": "code",
   "execution_count": null,
   "id": "518bf214-ce70-4baa-a2ad-28302986fe01",
   "metadata": {},
   "outputs": [],
   "source": [
    "!python -m coastlines.continental --help"
   ]
  },
  {
   "cell_type": "markdown",
   "id": "51249ca9-35ca-4baa-b6a1-67f149a6fef0",
   "metadata": {},
   "source": [
    "Example analysis:"
   ]
  },
  {
   "cell_type": "code",
   "execution_count": null,
   "id": "22e3dca9-6a5e-4e6a-ac2c-c3f3b1ae904b",
   "metadata": {},
   "outputs": [],
   "source": [
    "!python -m coastlines.continental --vector_version {vector_version} --continental_version {continental_version} --shorelines True --ratesofchange True --hotspots True --hotspots_radius 10000"
   ]
  },
  {
   "cell_type": "markdown",
   "id": "fe55ab27-807a-44c8-9408-595934893faa",
   "metadata": {},
   "source": [
    "## Example combined analysis\n",
    "This demonstrates how the three components of DE Africa Coastlines (raster generation, vector generation and continental layers generation) can be applied automatically to a sequence of input study area grid cells."
   ]
  },
  {
   "cell_type": "code",
   "execution_count": 5,
   "id": "fc95b9be-6877-4084-97b9-0fef47ce2f29",
   "metadata": {},
   "outputs": [
    {
     "name": "stdout",
     "output_type": "stream",
     "text": [
      "915\n",
      "/usr/local/lib/python3.8/dist-packages/geopandas/_compat.py:111: UserWarning: The Shapely GEOS version (3.8.0-CAPI-1.13.1 ) is incompatible with the GEOS version PyGEOS was compiled with (3.10.1-CAPI-1.16.0). Conversions between both will be slow.\n",
      "  warnings.warn(\n",
      "2022-05-22 03:54:36 INFO Data exists for study area 915 but overwrite set to False; skipping.\n",
      "920\n",
      "/usr/local/lib/python3.8/dist-packages/geopandas/_compat.py:111: UserWarning: The Shapely GEOS version (3.8.0-CAPI-1.13.1 ) is incompatible with the GEOS version PyGEOS was compiled with (3.10.1-CAPI-1.16.0). Conversions between both will be slow.\n",
      "  warnings.warn(\n",
      "2022-05-22 03:54:38 INFO Data exists for study area 920 but overwrite set to False; skipping.\n",
      "919\n",
      "/usr/local/lib/python3.8/dist-packages/geopandas/_compat.py:111: UserWarning: The Shapely GEOS version (3.8.0-CAPI-1.13.1 ) is incompatible with the GEOS version PyGEOS was compiled with (3.10.1-CAPI-1.16.0). Conversions between both will be slow.\n",
      "  warnings.warn(\n",
      "2022-05-22 03:54:40 INFO Data exists for study area 919 but overwrite set to False; skipping.\n",
      "886\n",
      "/usr/local/lib/python3.8/dist-packages/geopandas/_compat.py:111: UserWarning: The Shapely GEOS version (3.8.0-CAPI-1.13.1 ) is incompatible with the GEOS version PyGEOS was compiled with (3.10.1-CAPI-1.16.0). Conversions between both will be slow.\n",
      "  warnings.warn(\n",
      "2022-05-22 03:54:42 INFO Data exists for study area 886 but overwrite set to False; skipping.\n",
      "923\n",
      "/usr/local/lib/python3.8/dist-packages/geopandas/_compat.py:111: UserWarning: The Shapely GEOS version (3.8.0-CAPI-1.13.1 ) is incompatible with the GEOS version PyGEOS was compiled with (3.10.1-CAPI-1.16.0). Conversions between both will be slow.\n",
      "  warnings.warn(\n",
      "2022-05-22 03:54:44 INFO Data exists for study area 923 but overwrite set to False; skipping.\n",
      "890\n",
      "/usr/local/lib/python3.8/dist-packages/geopandas/_compat.py:111: UserWarning: The Shapely GEOS version (3.8.0-CAPI-1.13.1 ) is incompatible with the GEOS version PyGEOS was compiled with (3.10.1-CAPI-1.16.0). Conversions between both will be slow.\n",
      "  warnings.warn(\n",
      "2022-05-22 03:54:47 INFO Data exists for study area 890 but overwrite set to False; skipping.\n",
      "891\n",
      "/usr/local/lib/python3.8/dist-packages/geopandas/_compat.py:111: UserWarning: The Shapely GEOS version (3.8.0-CAPI-1.13.1 ) is incompatible with the GEOS version PyGEOS was compiled with (3.10.1-CAPI-1.16.0). Conversions between both will be slow.\n",
      "  warnings.warn(\n",
      "2022-05-22 03:54:49 INFO Data exists for study area 891 but overwrite set to False; skipping.\n",
      "929\n",
      "/usr/local/lib/python3.8/dist-packages/geopandas/_compat.py:111: UserWarning: The Shapely GEOS version (3.8.0-CAPI-1.13.1 ) is incompatible with the GEOS version PyGEOS was compiled with (3.10.1-CAPI-1.16.0). Conversions between both will be slow.\n",
      "  warnings.warn(\n",
      "2022-05-22 03:54:51 INFO Data exists for study area 929 but overwrite set to False; skipping.\n",
      "928\n",
      "/usr/local/lib/python3.8/dist-packages/geopandas/_compat.py:111: UserWarning: The Shapely GEOS version (3.8.0-CAPI-1.13.1 ) is incompatible with the GEOS version PyGEOS was compiled with (3.10.1-CAPI-1.16.0). Conversions between both will be slow.\n",
      "  warnings.warn(\n",
      "2022-05-22 03:54:53 INFO Starting vector generation for study area: 928\n",
      "2022-05-22 03:54:53 ERROR Failed to run process on study area 928 with error No rasters found for grid cell 928 (raster version 'testing'). Verify that `raster.py` has been run for this grid cell.\n",
      "Traceback (most recent call last):\n",
      "  File \"/home/jovyan/Robbi/deafrica-coastlines/coastlines/vector.py\", line 1422, in generate_vectors_cli\n",
      "    generate_vectors(\n",
      "  File \"/home/jovyan/Robbi/deafrica-coastlines/coastlines/vector.py\", line 1143, in generate_vectors\n",
      "    yearly_ds, gapfill_ds = load_rasters(\n",
      "  File \"/home/jovyan/Robbi/deafrica-coastlines/coastlines/vector.py\", line 103, in load_rasters\n",
      "    raise Exception(\n",
      "Exception: No rasters found for grid cell 928 (raster version 'testing'). Verify that `raster.py` has been run for this grid cell.\n",
      "894\n",
      "/usr/local/lib/python3.8/dist-packages/geopandas/_compat.py:111: UserWarning: The Shapely GEOS version (3.8.0-CAPI-1.13.1 ) is incompatible with the GEOS version PyGEOS was compiled with (3.10.1-CAPI-1.16.0). Conversions between both will be slow.\n",
      "  warnings.warn(\n",
      "2022-05-22 03:54:55 INFO Starting vector generation for study area: 894\n",
      "2022-05-22 03:54:55 ERROR Failed to run process on study area 894 with error No rasters found for grid cell 894 (raster version 'testing'). Verify that `raster.py` has been run for this grid cell.\n",
      "Traceback (most recent call last):\n",
      "  File \"/home/jovyan/Robbi/deafrica-coastlines/coastlines/vector.py\", line 1422, in generate_vectors_cli\n",
      "    generate_vectors(\n",
      "  File \"/home/jovyan/Robbi/deafrica-coastlines/coastlines/vector.py\", line 1143, in generate_vectors\n",
      "    yearly_ds, gapfill_ds = load_rasters(\n",
      "  File \"/home/jovyan/Robbi/deafrica-coastlines/coastlines/vector.py\", line 103, in load_rasters\n",
      "    raise Exception(\n",
      "Exception: No rasters found for grid cell 894 (raster version 'testing'). Verify that `raster.py` has been run for this grid cell.\n",
      "895\n",
      "/usr/local/lib/python3.8/dist-packages/geopandas/_compat.py:111: UserWarning: The Shapely GEOS version (3.8.0-CAPI-1.13.1 ) is incompatible with the GEOS version PyGEOS was compiled with (3.10.1-CAPI-1.16.0). Conversions between both will be slow.\n",
      "  warnings.warn(\n",
      "2022-05-22 03:54:58 INFO Starting vector generation for study area: 895\n",
      "2022-05-22 03:54:58 ERROR Failed to run process on study area 895 with error No rasters found for grid cell 895 (raster version 'testing'). Verify that `raster.py` has been run for this grid cell.\n",
      "Traceback (most recent call last):\n",
      "  File \"/home/jovyan/Robbi/deafrica-coastlines/coastlines/vector.py\", line 1422, in generate_vectors_cli\n",
      "    generate_vectors(\n",
      "  File \"/home/jovyan/Robbi/deafrica-coastlines/coastlines/vector.py\", line 1143, in generate_vectors\n",
      "    yearly_ds, gapfill_ds = load_rasters(\n",
      "  File \"/home/jovyan/Robbi/deafrica-coastlines/coastlines/vector.py\", line 103, in load_rasters\n",
      "    raise Exception(\n",
      "Exception: No rasters found for grid cell 895 (raster version 'testing'). Verify that `raster.py` has been run for this grid cell.\n",
      "897\n",
      "/usr/local/lib/python3.8/dist-packages/geopandas/_compat.py:111: UserWarning: The Shapely GEOS version (3.8.0-CAPI-1.13.1 ) is incompatible with the GEOS version PyGEOS was compiled with (3.10.1-CAPI-1.16.0). Conversions between both will be slow.\n",
      "  warnings.warn(\n",
      "2022-05-22 03:55:00 INFO Starting vector generation for study area: 897\n",
      "2022-05-22 03:55:00 ERROR Failed to run process on study area 897 with error No rasters found for grid cell 897 (raster version 'testing'). Verify that `raster.py` has been run for this grid cell.\n",
      "Traceback (most recent call last):\n",
      "  File \"/home/jovyan/Robbi/deafrica-coastlines/coastlines/vector.py\", line 1422, in generate_vectors_cli\n",
      "    generate_vectors(\n",
      "  File \"/home/jovyan/Robbi/deafrica-coastlines/coastlines/vector.py\", line 1143, in generate_vectors\n",
      "    yearly_ds, gapfill_ds = load_rasters(\n",
      "  File \"/home/jovyan/Robbi/deafrica-coastlines/coastlines/vector.py\", line 103, in load_rasters\n",
      "    raise Exception(\n",
      "Exception: No rasters found for grid cell 897 (raster version 'testing'). Verify that `raster.py` has been run for this grid cell.\n",
      "902\n",
      "/usr/local/lib/python3.8/dist-packages/geopandas/_compat.py:111: UserWarning: The Shapely GEOS version (3.8.0-CAPI-1.13.1 ) is incompatible with the GEOS version PyGEOS was compiled with (3.10.1-CAPI-1.16.0). Conversions between both will be slow.\n",
      "  warnings.warn(\n",
      "2022-05-22 03:55:02 INFO Starting vector generation for study area: 902\n",
      "2022-05-22 03:55:02 ERROR Failed to run process on study area 902 with error No rasters found for grid cell 902 (raster version 'testing'). Verify that `raster.py` has been run for this grid cell.\n",
      "Traceback (most recent call last):\n",
      "  File \"/home/jovyan/Robbi/deafrica-coastlines/coastlines/vector.py\", line 1422, in generate_vectors_cli\n",
      "    generate_vectors(\n",
      "  File \"/home/jovyan/Robbi/deafrica-coastlines/coastlines/vector.py\", line 1143, in generate_vectors\n",
      "    yearly_ds, gapfill_ds = load_rasters(\n",
      "  File \"/home/jovyan/Robbi/deafrica-coastlines/coastlines/vector.py\", line 103, in load_rasters\n",
      "    raise Exception(\n",
      "Exception: No rasters found for grid cell 902 (raster version 'testing'). Verify that `raster.py` has been run for this grid cell.\n",
      "942\n",
      "/usr/local/lib/python3.8/dist-packages/geopandas/_compat.py:111: UserWarning: The Shapely GEOS version (3.8.0-CAPI-1.13.1 ) is incompatible with the GEOS version PyGEOS was compiled with (3.10.1-CAPI-1.16.0). Conversions between both will be slow.\n",
      "  warnings.warn(\n",
      "2022-05-22 03:55:04 INFO Starting vector generation for study area: 942\n",
      "2022-05-22 03:55:04 ERROR Failed to run process on study area 942 with error No rasters found for grid cell 942 (raster version 'testing'). Verify that `raster.py` has been run for this grid cell.\n",
      "Traceback (most recent call last):\n",
      "  File \"/home/jovyan/Robbi/deafrica-coastlines/coastlines/vector.py\", line 1422, in generate_vectors_cli\n",
      "    generate_vectors(\n",
      "  File \"/home/jovyan/Robbi/deafrica-coastlines/coastlines/vector.py\", line 1143, in generate_vectors\n",
      "    yearly_ds, gapfill_ds = load_rasters(\n",
      "  File \"/home/jovyan/Robbi/deafrica-coastlines/coastlines/vector.py\", line 103, in load_rasters\n",
      "    raise Exception(\n",
      "Exception: No rasters found for grid cell 942 (raster version 'testing'). Verify that `raster.py` has been run for this grid cell.\n",
      "901\n",
      "/usr/local/lib/python3.8/dist-packages/geopandas/_compat.py:111: UserWarning: The Shapely GEOS version (3.8.0-CAPI-1.13.1 ) is incompatible with the GEOS version PyGEOS was compiled with (3.10.1-CAPI-1.16.0). Conversions between both will be slow.\n",
      "  warnings.warn(\n",
      "2022-05-22 03:55:07 INFO Starting vector generation for study area: 901\n",
      "2022-05-22 03:55:07 ERROR Failed to run process on study area 901 with error No rasters found for grid cell 901 (raster version 'testing'). Verify that `raster.py` has been run for this grid cell.\n",
      "Traceback (most recent call last):\n",
      "  File \"/home/jovyan/Robbi/deafrica-coastlines/coastlines/vector.py\", line 1422, in generate_vectors_cli\n",
      "    generate_vectors(\n",
      "  File \"/home/jovyan/Robbi/deafrica-coastlines/coastlines/vector.py\", line 1143, in generate_vectors\n",
      "    yearly_ds, gapfill_ds = load_rasters(\n",
      "  File \"/home/jovyan/Robbi/deafrica-coastlines/coastlines/vector.py\", line 103, in load_rasters\n",
      "    raise Exception(\n",
      "Exception: No rasters found for grid cell 901 (raster version 'testing'). Verify that `raster.py` has been run for this grid cell.\n",
      "910\n",
      "/usr/local/lib/python3.8/dist-packages/geopandas/_compat.py:111: UserWarning: The Shapely GEOS version (3.8.0-CAPI-1.13.1 ) is incompatible with the GEOS version PyGEOS was compiled with (3.10.1-CAPI-1.16.0). Conversions between both will be slow.\n",
      "  warnings.warn(\n",
      "2022-05-22 03:55:09 INFO Starting vector generation for study area: 910\n",
      "2022-05-22 03:55:09 ERROR Failed to run process on study area 910 with error No rasters found for grid cell 910 (raster version 'testing'). Verify that `raster.py` has been run for this grid cell.\n",
      "Traceback (most recent call last):\n",
      "  File \"/home/jovyan/Robbi/deafrica-coastlines/coastlines/vector.py\", line 1422, in generate_vectors_cli\n",
      "    generate_vectors(\n",
      "  File \"/home/jovyan/Robbi/deafrica-coastlines/coastlines/vector.py\", line 1143, in generate_vectors\n",
      "    yearly_ds, gapfill_ds = load_rasters(\n",
      "  File \"/home/jovyan/Robbi/deafrica-coastlines/coastlines/vector.py\", line 103, in load_rasters\n",
      "    raise Exception(\n",
      "Exception: No rasters found for grid cell 910 (raster version 'testing'). Verify that `raster.py` has been run for this grid cell.\n",
      "906\n",
      "/usr/local/lib/python3.8/dist-packages/geopandas/_compat.py:111: UserWarning: The Shapely GEOS version (3.8.0-CAPI-1.13.1 ) is incompatible with the GEOS version PyGEOS was compiled with (3.10.1-CAPI-1.16.0). Conversions between both will be slow.\n",
      "  warnings.warn(\n",
      "2022-05-22 03:55:11 INFO Starting vector generation for study area: 906\n",
      "2022-05-22 03:55:11 ERROR Failed to run process on study area 906 with error No rasters found for grid cell 906 (raster version 'testing'). Verify that `raster.py` has been run for this grid cell.\n",
      "Traceback (most recent call last):\n",
      "  File \"/home/jovyan/Robbi/deafrica-coastlines/coastlines/vector.py\", line 1422, in generate_vectors_cli\n",
      "    generate_vectors(\n",
      "  File \"/home/jovyan/Robbi/deafrica-coastlines/coastlines/vector.py\", line 1143, in generate_vectors\n",
      "    yearly_ds, gapfill_ds = load_rasters(\n",
      "  File \"/home/jovyan/Robbi/deafrica-coastlines/coastlines/vector.py\", line 103, in load_rasters\n",
      "    raise Exception(\n",
      "Exception: No rasters found for grid cell 906 (raster version 'testing'). Verify that `raster.py` has been run for this grid cell.\n",
      "916\n",
      "/usr/local/lib/python3.8/dist-packages/geopandas/_compat.py:111: UserWarning: The Shapely GEOS version (3.8.0-CAPI-1.13.1 ) is incompatible with the GEOS version PyGEOS was compiled with (3.10.1-CAPI-1.16.0). Conversions between both will be slow.\n",
      "  warnings.warn(\n",
      "2022-05-22 03:55:13 INFO Starting vector generation for study area: 916\n",
      "2022-05-22 03:55:13 ERROR Failed to run process on study area 916 with error No rasters found for grid cell 916 (raster version 'testing'). Verify that `raster.py` has been run for this grid cell.\n",
      "Traceback (most recent call last):\n",
      "  File \"/home/jovyan/Robbi/deafrica-coastlines/coastlines/vector.py\", line 1422, in generate_vectors_cli\n",
      "    generate_vectors(\n",
      "  File \"/home/jovyan/Robbi/deafrica-coastlines/coastlines/vector.py\", line 1143, in generate_vectors\n",
      "    yearly_ds, gapfill_ds = load_rasters(\n",
      "  File \"/home/jovyan/Robbi/deafrica-coastlines/coastlines/vector.py\", line 103, in load_rasters\n",
      "    raise Exception(\n",
      "Exception: No rasters found for grid cell 916 (raster version 'testing'). Verify that `raster.py` has been run for this grid cell.\n",
      "/usr/local/lib/python3.8/dist-packages/geopandas/_compat.py:111: UserWarning: The Shapely GEOS version (3.8.0-CAPI-1.13.1 ) is incompatible with the GEOS version PyGEOS was compiled with (3.10.1-CAPI-1.16.0). Conversions between both will be slow.\n",
      "  warnings.warn(\n",
      "2022-05-22 03:55:15 INFO Writing data to data/processed/testing\n",
      "Warning 1: A geometry of type MULTILINESTRING is inserted into layer annual_shorelines of geometry type LINESTRING, which is not normally allowed by the GeoPackage specification, but the driver will however do it. To create a conformant GeoPackage, if using ogr2ogr, the -nlt option can be used to override the layer geometry type. This warning will no longer be emitted for this combination of layer and feature geometry type.\n",
      "2022-05-22 03:55:16 INFO Writing annual shorelines complete\n",
      "2022-05-22 03:55:16 INFO Writing rates of change statistics complete\n",
      "2022-05-22 03:55:16 INFO Generating hotspots...\n",
      "Building index: 100%|█████████████████████| 7875/7875 [00:01<00:00, 4196.21it/s]\n",
      "Processing points: 100%|████████████████████████| 26/26 [00:03<00:00,  8.33it/s]\n",
      "2022-05-22 03:55:22 INFO Writing hotspots complete\n",
      "2022-05-22 03:55:22 INFO Writing styles in the geopackage file\n"
     ]
    }
   ],
   "source": [
    "# Study areas\n",
    "study_areas = [434, 435, 439, 442, 443, 450, 451, 455, 462, 464]  # Madagascar\n",
    "study_areas = [915, 920, 919, 886, 923, 890, 891, 929, 928, 894, 895, 897, 902, 942, 901, 910, 906, 916]\n",
    "\n",
    "# Run raster and vector generation for each study area\n",
    "for study_area in study_areas:\n",
    "    print(study_area)\n",
    "#     !python -m coastlines.raster --config_path {config_path} --study_area {study_area} --raster_version {raster_version} --start_year 1998 --end_year 2021\n",
    "    !python -m coastlines.vector --config_path {config_path} --study_area {study_area} --raster_version {raster_version} --vector_version {vector_version} --baseline_year 2020 --no-overwrite\n",
    "    \n",
    "# When complete, combine into single continental outputs\n",
    "!python -m coastlines.continental --vector_version {vector_version} --continental_version {continental_version} --shorelines True --ratesofchange True --hotspots True"
   ]
  },
  {
   "cell_type": "markdown",
   "id": "3f83a811-d875-4c27-9f9e-3e644119b49f",
   "metadata": {
    "tags": []
   },
   "source": [
    "### Clean up and remove files\n",
    "Warning: this will delete all data processed with a matching unique version name. Only run these cells if you no longer need these processed outputs!"
   ]
  },
  {
   "cell_type": "code",
   "execution_count": null,
   "id": "585af34b-9cde-4ff2-8fa5-5c2baaab2e79",
   "metadata": {},
   "outputs": [],
   "source": [
    "# rm -rf data/interim/raster/{raster_version}"
   ]
  },
  {
   "cell_type": "code",
   "execution_count": null,
   "id": "f3069daf-5d71-4c70-8740-d02efb1fc0f9",
   "metadata": {},
   "outputs": [],
   "source": [
    "# rm -rf data/interim/vector/{vector_version}"
   ]
  },
  {
   "cell_type": "code",
   "execution_count": null,
   "id": "38d2209f-e978-4735-835b-68381358517a",
   "metadata": {},
   "outputs": [],
   "source": [
    "# rm -rf data/processed/{continental_version}"
   ]
  },
  {
   "cell_type": "markdown",
   "id": "9d560564-e485-4a02-8f19-0dea1ba42bd3",
   "metadata": {
    "tags": []
   },
   "source": [
    "***\n",
    "\n",
    "## Additional information"
   ]
  },
  {
   "cell_type": "markdown",
   "id": "457f851c-3b51-4c80-8430-d893fdbd05ec",
   "metadata": {},
   "source": [
    "**License:** The code in this notebook is licensed under the [Apache License, Version 2.0](https://www.apache.org/licenses/LICENSE-2.0). \n",
    "Digital Earth Africa data is licensed under the [Creative Commons by Attribution 4.0](https://creativecommons.org/licenses/by/4.0/) license.\n",
    "\n",
    "**Contact:** For assistance with any of the Python code or Jupyter Notebooks in this repository, please post a [Github issue](https://github.com/GeoscienceAustralia/DEACoastLines/issues/new).\n",
    "\n",
    "**Last modified:** April 2022"
   ]
  }
 ],
 "metadata": {
  "kernelspec": {
   "display_name": "Python 3 (ipykernel)",
   "language": "python",
   "name": "python3"
  },
  "language_info": {
   "codemirror_mode": {
    "name": "ipython",
    "version": 3
   },
   "file_extension": ".py",
   "mimetype": "text/x-python",
   "name": "python",
   "nbconvert_exporter": "python",
   "pygments_lexer": "ipython3",
   "version": "3.8.10"
  },
  "widgets": {
   "application/vnd.jupyter.widget-state+json": {
    "state": {},
    "version_major": 2,
    "version_minor": 0
   }
  }
 },
 "nbformat": 4,
 "nbformat_minor": 5
}
